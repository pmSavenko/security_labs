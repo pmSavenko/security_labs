{
 "cells": [
  {
   "cell_type": "code",
   "execution_count": 73,
   "metadata": {},
   "outputs": [],
   "source": [
    "import random\n",
    "import json\n",
    "import math\n",
    "import time\n",
    "\n",
    "A = [random.randint(0, 100000) for i in range(1, 50)]\n",
    "with open('array50.txt', 'w') as af:\n",
    "    json.dump(A, af)\n",
    "\n",
    "A = [random.randint(0, 100000) for i in range(1, 200)]\n",
    "with open('array200.txt', 'w') as af:\n",
    "    json.dump(A, af)\n",
    "\n",
    "A = [random.randint(0, 100000) for i in range(1, 1000)]\n",
    "with open('array500.txt', 'w') as af:\n",
    "    json.dump(A, af)"
   ]
  },
  {
   "cell_type": "code",
   "execution_count": 74,
   "metadata": {},
   "outputs": [],
   "source": [
    "def LinearSearch(ar, element):\n",
    "    for i in range (len(ar)):\n",
    "        if ar[i] == element:\n",
    "            return i\n",
    "    return -1"
   ]
  },
  {
   "cell_type": "code",
   "execution_count": 75,
   "metadata": {},
   "outputs": [],
   "source": [
    "def BinarySearch(lys, val):\n",
    "    first = 0\n",
    "    last = len(lys)-1\n",
    "    index = -1\n",
    "    while (first <= last) and (index == -1):\n",
    "        mid = (first+last)//2\n",
    "        if lys[mid] == val:\n",
    "            index = mid\n",
    "        else:\n",
    "            if val<lys[mid]:\n",
    "                last = mid -1\n",
    "            else:\n",
    "                first = mid +1\n",
    "    return index"
   ]
  },
  {
   "cell_type": "code",
   "execution_count": 76,
   "metadata": {},
   "outputs": [],
   "source": [
    "def FibonacciSearch(lys, val):\n",
    "    fibM_minus_2 = 0\n",
    "    fibM_minus_1 = 1\n",
    "    fibM = fibM_minus_1 + fibM_minus_2\n",
    "    while (fibM < len(lys)):\n",
    "        fibM_minus_2 = fibM_minus_1\n",
    "        fibM_minus_1 = fibM\n",
    "        fibM = fibM_minus_1 + fibM_minus_2\n",
    "    index = -1;\n",
    "    while (fibM > 1):\n",
    "        i = min(index + fibM_minus_2, (len(lys)-1))\n",
    "        if (lys[i] < val):\n",
    "            fibM = fibM_minus_1\n",
    "            fibM_minus_1 = fibM_minus_2\n",
    "            fibM_minus_2 = fibM - fibM_minus_1\n",
    "            index = i\n",
    "        elif (lys[i] > val):\n",
    "            fibM = fibM_minus_2\n",
    "            fibM_minus_1 = fibM_minus_1 - fibM_minus_2\n",
    "            fibM_minus_2 = fibM - fibM_minus_1\n",
    "        else :\n",
    "            return i\n",
    "    if(fibM_minus_1 and index < (len(lys)-1) and lys[index+1] == val):\n",
    "        return index+1;\n",
    "    return -1"
   ]
  },
  {
   "cell_type": "code",
   "execution_count": 86,
   "metadata": {},
   "outputs": [
    {
     "name": "stdout",
     "output_type": "stream",
     "text": [
      "\n",
      " Результаты для массива 50\n",
      "\n",
      "   Индекс: 21\n",
      "\n",
      " Время выполнения линейного поиска: 0.0002688000004127389\n",
      "\n",
      " Время выполнения бинарного поиска: 0.0001247000000148546\n",
      "\n",
      " Время выполнения поиска Фибоначчи: 0.00012349999997240957\n",
      "\n"
     ]
    },
    {
     "name": "stderr",
     "output_type": "stream",
     "text": [
      "C:\\Users\\Debil\\Anaconda3\\lib\\site-packages\\ipykernel_launcher.py:4: DeprecationWarning: time.clock has been deprecated in Python 3.3 and will be removed from Python 3.8: use time.perf_counter or time.process_time instead\n",
      "  after removing the cwd from sys.path.\n",
      "C:\\Users\\Debil\\Anaconda3\\lib\\site-packages\\ipykernel_launcher.py:6: DeprecationWarning: time.clock has been deprecated in Python 3.3 and will be removed from Python 3.8: use time.perf_counter or time.process_time instead\n",
      "  \n",
      "C:\\Users\\Debil\\Anaconda3\\lib\\site-packages\\ipykernel_launcher.py:14: DeprecationWarning: time.clock has been deprecated in Python 3.3 and will be removed from Python 3.8: use time.perf_counter or time.process_time instead\n",
      "  \n",
      "C:\\Users\\Debil\\Anaconda3\\lib\\site-packages\\ipykernel_launcher.py:16: DeprecationWarning: time.clock has been deprecated in Python 3.3 and will be removed from Python 3.8: use time.perf_counter or time.process_time instead\n",
      "  app.launch_new_instance()\n",
      "C:\\Users\\Debil\\Anaconda3\\lib\\site-packages\\ipykernel_launcher.py:23: DeprecationWarning: time.clock has been deprecated in Python 3.3 and will be removed from Python 3.8: use time.perf_counter or time.process_time instead\n",
      "C:\\Users\\Debil\\Anaconda3\\lib\\site-packages\\ipykernel_launcher.py:25: DeprecationWarning: time.clock has been deprecated in Python 3.3 and will be removed from Python 3.8: use time.perf_counter or time.process_time instead\n"
     ]
    }
   ],
   "source": [
    "with open('array50.txt', 'r') as af:\n",
    "    sa = json.load(af)\n",
    "mynum = sa[21]\n",
    "tm = time.clock()\n",
    "res = LinearSearch(sa, mynum)\n",
    "tm = time.clock() - tm \n",
    "print('\\n Результаты для массива 50\\n')\n",
    "print('   Индекс: ' + str(res) + '\\n')\n",
    "print(' Время выполнения линейного поиска: ' + str(tm)+ '\\n')\n",
    "\n",
    "with open('array50.txt', 'r') as af:\n",
    "    sa = json.load(af)\n",
    "mynum = sa[21]\n",
    "tm = time.clock()\n",
    "res1 = BinarySearch(sa, mynum)\n",
    "tm = time.clock() - tm \n",
    "print(' Время выполнения бинарного поиска: ' + str(tm)+ '\\n')\n",
    "\n",
    "\n",
    "with open('array50.txt', 'r') as af:\n",
    "    sa = json.load(af)\n",
    "mynum = sa[21]\n",
    "tm = time.clock()\n",
    "res1 = FibonacciSearch(sa, mynum)\n",
    "tm = time.clock() - tm \n",
    "print(' Время выполнения поиска Фибоначчи: ' + str(tm)+ '\\n')"
   ]
  },
  {
   "cell_type": "code",
   "execution_count": 89,
   "metadata": {
    "scrolled": false
   },
   "outputs": [
    {
     "name": "stdout",
     "output_type": "stream",
     "text": [
      "\n",
      " Результаты для массива 200\n",
      "\n",
      "   Индекс: 21\n",
      "\n",
      " Время выполнения линейного поиска: 0.0003531000002112705\n",
      "\n",
      " Время выполнения бинарного поиска: 0.0003405999996175524\n",
      "\n",
      " Время выполнения поиска Фибоначчи: 0.00016310000137309544\n",
      "\n"
     ]
    },
    {
     "name": "stderr",
     "output_type": "stream",
     "text": [
      "C:\\Users\\Debil\\Anaconda3\\lib\\site-packages\\ipykernel_launcher.py:4: DeprecationWarning: time.clock has been deprecated in Python 3.3 and will be removed from Python 3.8: use time.perf_counter or time.process_time instead\n",
      "  after removing the cwd from sys.path.\n",
      "C:\\Users\\Debil\\Anaconda3\\lib\\site-packages\\ipykernel_launcher.py:6: DeprecationWarning: time.clock has been deprecated in Python 3.3 and will be removed from Python 3.8: use time.perf_counter or time.process_time instead\n",
      "  \n",
      "C:\\Users\\Debil\\Anaconda3\\lib\\site-packages\\ipykernel_launcher.py:14: DeprecationWarning: time.clock has been deprecated in Python 3.3 and will be removed from Python 3.8: use time.perf_counter or time.process_time instead\n",
      "  \n",
      "C:\\Users\\Debil\\Anaconda3\\lib\\site-packages\\ipykernel_launcher.py:16: DeprecationWarning: time.clock has been deprecated in Python 3.3 and will be removed from Python 3.8: use time.perf_counter or time.process_time instead\n",
      "  app.launch_new_instance()\n",
      "C:\\Users\\Debil\\Anaconda3\\lib\\site-packages\\ipykernel_launcher.py:23: DeprecationWarning: time.clock has been deprecated in Python 3.3 and will be removed from Python 3.8: use time.perf_counter or time.process_time instead\n",
      "C:\\Users\\Debil\\Anaconda3\\lib\\site-packages\\ipykernel_launcher.py:25: DeprecationWarning: time.clock has been deprecated in Python 3.3 and will be removed from Python 3.8: use time.perf_counter or time.process_time instead\n"
     ]
    }
   ],
   "source": [
    "with open('array200.txt', 'r') as af:\n",
    "    sa = json.load(af)\n",
    "mynum = sa[21]\n",
    "tm = time.clock()\n",
    "res = LinearSearch(sa, mynum)\n",
    "tm = time.clock() - tm \n",
    "print('\\n Результаты для массива 200\\n')\n",
    "print('   Индекс: ' + str(res) + '\\n')\n",
    "print(' Время выполнения линейного поиска: ' + str(tm)+ '\\n')\n",
    "\n",
    "with open('array200.txt', 'r') as af:\n",
    "    sa = json.load(af)\n",
    "mynum = sa[21]\n",
    "tm = time.clock()\n",
    "res1 = BinarySearch(sa, mynum)\n",
    "tm = time.clock() - tm \n",
    "print(' Время выполнения бинарного поиска: ' + str(tm)+ '\\n')\n",
    "\n",
    "\n",
    "with open('array200.txt', 'r') as af:\n",
    "    sa = json.load(af)\n",
    "mynum = sa[21]\n",
    "tm = time.clock()\n",
    "res1 = FibonacciSearch(sa, mynum)\n",
    "tm = time.clock() - tm \n",
    "print(' Время выполнения поиска Фибоначчи: ' + str(tm)+ '\\n')"
   ]
  },
  {
   "cell_type": "code",
   "execution_count": 90,
   "metadata": {},
   "outputs": [
    {
     "name": "stdout",
     "output_type": "stream",
     "text": [
      "\n",
      " Результаты для массива 500\n",
      "\n",
      "   Индекс: 301\n",
      "\n",
      " Время выполнения линейного поиска: 0.0003529999994498212\n",
      "\n",
      " Время выполнения бинарного поиска: 0.0003371999991941266\n",
      "\n",
      " Время выполнения поиска Фибоначчи: 0.0002153999994334299\n",
      "\n"
     ]
    },
    {
     "name": "stderr",
     "output_type": "stream",
     "text": [
      "C:\\Users\\Debil\\Anaconda3\\lib\\site-packages\\ipykernel_launcher.py:4: DeprecationWarning: time.clock has been deprecated in Python 3.3 and will be removed from Python 3.8: use time.perf_counter or time.process_time instead\n",
      "  after removing the cwd from sys.path.\n",
      "C:\\Users\\Debil\\Anaconda3\\lib\\site-packages\\ipykernel_launcher.py:6: DeprecationWarning: time.clock has been deprecated in Python 3.3 and will be removed from Python 3.8: use time.perf_counter or time.process_time instead\n",
      "  \n",
      "C:\\Users\\Debil\\Anaconda3\\lib\\site-packages\\ipykernel_launcher.py:14: DeprecationWarning: time.clock has been deprecated in Python 3.3 and will be removed from Python 3.8: use time.perf_counter or time.process_time instead\n",
      "  \n",
      "C:\\Users\\Debil\\Anaconda3\\lib\\site-packages\\ipykernel_launcher.py:16: DeprecationWarning: time.clock has been deprecated in Python 3.3 and will be removed from Python 3.8: use time.perf_counter or time.process_time instead\n",
      "  app.launch_new_instance()\n",
      "C:\\Users\\Debil\\Anaconda3\\lib\\site-packages\\ipykernel_launcher.py:23: DeprecationWarning: time.clock has been deprecated in Python 3.3 and will be removed from Python 3.8: use time.perf_counter or time.process_time instead\n",
      "C:\\Users\\Debil\\Anaconda3\\lib\\site-packages\\ipykernel_launcher.py:25: DeprecationWarning: time.clock has been deprecated in Python 3.3 and will be removed from Python 3.8: use time.perf_counter or time.process_time instead\n"
     ]
    }
   ],
   "source": [
    "with open('array500.txt', 'r') as af:\n",
    "    sa = json.load(af)\n",
    "mynum = sa[301]\n",
    "tm = time.clock()\n",
    "res = LinearSearch(sa, mynum)\n",
    "tm = time.clock() - tm \n",
    "print('\\n Результаты для массива 500\\n')\n",
    "print('   Индекс: ' + str(res) + '\\n')\n",
    "print(' Время выполнения линейного поиска: ' + str(tm)+ '\\n')\n",
    "\n",
    "with open('array500.txt', 'r') as af:\n",
    "    sa = json.load(af)\n",
    "mynum = sa[301]\n",
    "tm = time.clock()\n",
    "res1 = BinarySearch(sa, mynum)\n",
    "tm = time.clock() - tm \n",
    "print(' Время выполнения бинарного поиска: ' + str(tm)+ '\\n')\n",
    "\n",
    "\n",
    "with open('array500.txt', 'r') as af:\n",
    "    sa = json.load(af)\n",
    "mynum = sa[301]\n",
    "tm = time.clock()\n",
    "res1 = FibonacciSearch(sa, mynum)\n",
    "tm = time.clock() - tm \n",
    "print(' Время выполнения поиска Фибоначчи: ' + str(tm)+ '\\n')"
   ]
  },
  {
   "cell_type": "code",
   "execution_count": null,
   "metadata": {},
   "outputs": [],
   "source": []
  },
  {
   "cell_type": "code",
   "execution_count": null,
   "metadata": {},
   "outputs": [],
   "source": []
  }
 ],
 "metadata": {
  "kernelspec": {
   "display_name": "Python 3",
   "language": "python",
   "name": "python3"
  },
  "language_info": {
   "codemirror_mode": {
    "name": "ipython",
    "version": 3
   },
   "file_extension": ".py",
   "mimetype": "text/x-python",
   "name": "python",
   "nbconvert_exporter": "python",
   "pygments_lexer": "ipython3",
   "version": "3.7.0"
  }
 },
 "nbformat": 4,
 "nbformat_minor": 2
}
